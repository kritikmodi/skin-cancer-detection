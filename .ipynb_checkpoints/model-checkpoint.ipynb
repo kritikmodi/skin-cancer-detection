{
 "cells": [
  {
   "cell_type": "code",
   "execution_count": 1,
   "metadata": {
    "pycharm": {
     "name": "#%%\n"
    }
   },
   "outputs": [],
   "source": [
    "import pandas as pd\n",
    "import tensorflow\n",
    "import numpy as np\n",
    "from keras.models import Sequential\n",
    "from keras import optimizers\n",
    "from keras.layers import Dense, Conv2D, Dropout, Flatten, MaxPooling2D\n",
    "from keras.applications.mobilenet_v2 import MobileNetV2"
   ]
  },
  {
   "cell_type": "code",
   "execution_count": 2,
   "metadata": {},
   "outputs": [],
   "source": [
    "base_model = MobileNetV2(include_top=False, weights=\"imagenet\", input_shape=(224,224,3))"
   ]
  },
  {
   "cell_type": "code",
   "execution_count": 3,
   "metadata": {},
   "outputs": [],
   "source": [
    "model = Sequential()\n",
    "model.add(base_model)\n",
    "model.add(Conv2D(64, (3, 3), activation = 'relu'))\n",
    "model.add(MaxPooling2D(pool_size = (2, 2)))\n",
    "model.add(Dropout(0.40))\n",
    "model.add(Flatten())\n",
    "model.add(Dense(128, activation = 'relu'))\n",
    "model.add(Dropout(0.4))\n",
    "model.add(Dense(7, activation = 'sigmoid'))"
   ]
  },
  {
   "cell_type": "code",
   "execution_count": 4,
   "metadata": {},
   "outputs": [
    {
     "data": {
      "text/html": [
       "<div>\n",
       "<style scoped>\n",
       "    .dataframe tbody tr th:only-of-type {\n",
       "        vertical-align: middle;\n",
       "    }\n",
       "\n",
       "    .dataframe tbody tr th {\n",
       "        vertical-align: top;\n",
       "    }\n",
       "\n",
       "    .dataframe thead th {\n",
       "        text-align: right;\n",
       "    }\n",
       "</style>\n",
       "<table border=\"1\" class=\"dataframe\">\n",
       "  <thead>\n",
       "    <tr style=\"text-align: right;\">\n",
       "      <th></th>\n",
       "      <th>image_full_name</th>\n",
       "      <th>dx</th>\n",
       "      <th>lesion_id</th>\n",
       "    </tr>\n",
       "  </thead>\n",
       "  <tbody>\n",
       "    <tr>\n",
       "      <th>3060</th>\n",
       "      <td>ISIC_0032210.jpg</td>\n",
       "      <td>nv</td>\n",
       "      <td>HAM_0001227</td>\n",
       "    </tr>\n",
       "    <tr>\n",
       "      <th>642</th>\n",
       "      <td>ISIC_0028749.jpg</td>\n",
       "      <td>bkl</td>\n",
       "      <td>HAM_0005275</td>\n",
       "    </tr>\n",
       "    <tr>\n",
       "      <th>3405</th>\n",
       "      <td>ISIC_0031837.jpg</td>\n",
       "      <td>nv</td>\n",
       "      <td>HAM_0005975</td>\n",
       "    </tr>\n",
       "    <tr>\n",
       "      <th>9095</th>\n",
       "      <td>ISIC_0031304.jpg</td>\n",
       "      <td>nv</td>\n",
       "      <td>HAM_0001125</td>\n",
       "    </tr>\n",
       "    <tr>\n",
       "      <th>3916</th>\n",
       "      <td>ISIC_0029330.jpg</td>\n",
       "      <td>nv</td>\n",
       "      <td>HAM_0005768</td>\n",
       "    </tr>\n",
       "  </tbody>\n",
       "</table>\n",
       "</div>"
      ],
      "text/plain": [
       "       image_full_name   dx    lesion_id\n",
       "3060  ISIC_0032210.jpg   nv  HAM_0001227\n",
       "642   ISIC_0028749.jpg  bkl  HAM_0005275\n",
       "3405  ISIC_0031837.jpg   nv  HAM_0005975\n",
       "9095  ISIC_0031304.jpg   nv  HAM_0001125\n",
       "3916  ISIC_0029330.jpg   nv  HAM_0005768"
      ]
     },
     "execution_count": 4,
     "metadata": {},
     "output_type": "execute_result"
    }
   ],
   "source": [
    "data = pd.read_csv(\"C:/Users/karan/Desktop/skin-cancer/HAM10000_metadata.csv\")\n",
    "data['image_full_name'] = data['image_id']+'.jpg'\n",
    "X= data[['image_full_name','dx','lesion_id']]\n",
    "X.sample(5)"
   ]
  },
  {
   "cell_type": "code",
   "execution_count": 5,
   "metadata": {},
   "outputs": [],
   "source": [
    "from sklearn.model_selection import train_test_split\n",
    "Y = X.pop('dx').to_frame()\n",
    "X_train, X_test, Y_train, Y_test = train_test_split(X,Y, test_size=0.17, random_state = 42)\n",
    "X_train, X_val, Y_train, Y_val = train_test_split(X_train, Y_train, test_size = 0.17, random_state = 42)"
   ]
  },
  {
   "cell_type": "code",
   "execution_count": 6,
   "metadata": {},
   "outputs": [],
   "source": [
    "train = pd.concat([X_train, Y_train], axis = 1)\n",
    "val = pd.concat([X_val, Y_val], axis = 1)\n",
    "test = pd.concat([X_test, Y_test], axis = 1)"
   ]
  },
  {
   "cell_type": "code",
   "execution_count": 7,
   "metadata": {},
   "outputs": [],
   "source": [
    "from sklearn.preprocessing import LabelEncoder\n",
    "encoder = LabelEncoder()\n",
    "encoder.fit(val['dx'])\n",
    "name_as_indexes_train = encoder.transform(val['dx'])\n",
    "val['label'] = name_as_indexes_train"
   ]
  },
  {
   "cell_type": "code",
   "execution_count": 8,
   "metadata": {},
   "outputs": [],
   "source": [
    "encoder = LabelEncoder()\n",
    "encoder.fit(test['dx'])\n",
    "name_as_indexes_test = encoder.transform(test['dx'])\n",
    "test['label'] = name_as_indexes_test"
   ]
  },
  {
   "cell_type": "code",
   "execution_count": 9,
   "metadata": {},
   "outputs": [],
   "source": [
    "from keras_preprocessing.image import ImageDataGenerator\n",
    "train_generator = ImageDataGenerator(rescale = 1./255, \n",
    "                                    rotation_range = 10,\n",
    "                                    zoom_range = 0.1,\n",
    "                                    width_shift_range=0.0, height_shift_range= 0.00)"
   ]
  },
  {
   "cell_type": "code",
   "execution_count": 10,
   "metadata": {},
   "outputs": [
    {
     "name": "stdout",
     "output_type": "stream",
     "text": [
      "Found 6898 validated image filenames belonging to 7 classes.\n"
     ]
    }
   ],
   "source": [
    "train_data = train_generator.flow_from_dataframe(dataframe = train, x_col= \"image_full_name\", y_col=\"dx\",\n",
    "                                                batch_size = 32, directory=\"C:/Users/karan/Desktop/skin-cancer/HAM1000_images\",\n",
    "                                                shuffle=True, class_mode = \"categorical\", target_size=(224,224))"
   ]
  },
  {
   "cell_type": "code",
   "execution_count": 11,
   "metadata": {},
   "outputs": [],
   "source": [
    "test_generator = ImageDataGenerator(rescale = 1./225, rotation_range =10,\n",
    "                                   zoom_range = 0.1,\n",
    "                                   width_shift_range = 0.0, height_shift_range=0.02)"
   ]
  },
  {
   "cell_type": "code",
   "execution_count": 12,
   "metadata": {},
   "outputs": [],
   "source": [
    "test_generator = ImageDataGenerator(rescale = 1./255, \n",
    "                                    rotation_range = 10,\n",
    "                                    zoom_range = 0.1,\n",
    "                                    width_shift_range=0.0, height_shift_range= 0.02)"
   ]
  },
  {
   "cell_type": "code",
   "execution_count": 13,
   "metadata": {},
   "outputs": [
    {
     "name": "stdout",
     "output_type": "stream",
     "text": [
      "Found 1703 validated image filenames belonging to 7 classes.\n"
     ]
    }
   ],
   "source": [
    "test_data = test_generator.flow_from_dataframe(dataframe = test, x_col= \"image_full_name\", y_col=\"dx\",\n",
    "                                                directory=\"C:/Users/karan/Desktop/skin-cancer/HAM1000_images\",\n",
    "                                                shuffle=False, batch_size =64, class_mode = \"categorical\", target_size=(224,224))"
   ]
  },
  {
   "cell_type": "code",
   "execution_count": 14,
   "metadata": {},
   "outputs": [
    {
     "name": "stdout",
     "output_type": "stream",
     "text": [
      "Found 1414 validated image filenames belonging to 7 classes.\n"
     ]
    }
   ],
   "source": [
    "val_data=test_generator.flow_from_dataframe(dataframe=val,x_col=\"image_full_name\",y_col=\"dx\",\n",
    "                                            directory=\"C:/Users/karan/Desktop/skin-cancer/HAM1000_images\",\n",
    "                                            batch_size=64,shuffle=False,class_mode=\"categorical\",target_size=(224,224))"
   ]
  },
  {
   "cell_type": "code",
   "execution_count": 15,
   "metadata": {},
   "outputs": [],
   "source": [
    "from keras.callbacks import ReduceLROnPlateau\n",
    "learning_control = ReduceLROnPlateau(monitor='val_accuracy', patience=3, verbose=1, factor=.5, min_lr=0.0001)"
   ]
  },
  {
   "cell_type": "code",
   "execution_count": 16,
   "metadata": {},
   "outputs": [],
   "source": [
    "from keras.optimizers import adam_v2,gradient_descent_v2\n",
    "sgd = gradient_descent_v2.SGD(learning_rate = 0.01, clipvalue = 0.5)\n",
    "model.compile(optimizer=sgd,loss=\"categorical_crossentropy\",metrics=[\"accuracy\"])"
   ]
  },
  {
   "cell_type": "code",
   "execution_count": 17,
   "metadata": {},
   "outputs": [
    {
     "name": "stdout",
     "output_type": "stream",
     "text": [
      "Model: \"sequential\"\n",
      "_________________________________________________________________\n",
      "Layer (type)                 Output Shape              Param #   \n",
      "=================================================================\n",
      "mobilenetv2_1.00_224 (Functi (None, 7, 7, 1280)        2257984   \n",
      "_________________________________________________________________\n",
      "conv2d (Conv2D)              (None, 5, 5, 64)          737344    \n",
      "_________________________________________________________________\n",
      "max_pooling2d (MaxPooling2D) (None, 2, 2, 64)          0         \n",
      "_________________________________________________________________\n",
      "dropout (Dropout)            (None, 2, 2, 64)          0         \n",
      "_________________________________________________________________\n",
      "flatten (Flatten)            (None, 256)               0         \n",
      "_________________________________________________________________\n",
      "dense (Dense)                (None, 128)               32896     \n",
      "_________________________________________________________________\n",
      "dropout_1 (Dropout)          (None, 128)               0         \n",
      "_________________________________________________________________\n",
      "dense_1 (Dense)              (None, 7)                 903       \n",
      "=================================================================\n",
      "Total params: 3,029,127\n",
      "Trainable params: 2,995,015\n",
      "Non-trainable params: 34,112\n",
      "_________________________________________________________________\n"
     ]
    }
   ],
   "source": [
    "model.summary()"
   ]
  },
  {
   "cell_type": "code",
   "execution_count": 18,
   "metadata": {},
   "outputs": [
    {
     "name": "stderr",
     "output_type": "stream",
     "text": [
      "C:\\Users\\karan\\.conda\\envs\\TF\\lib\\site-packages\\keras\\engine\\training.py:1972: UserWarning: `Model.fit_generator` is deprecated and will be removed in a future version. Please use `Model.fit`, which supports generators.\n",
      "  warnings.warn('`Model.fit_generator` is deprecated and '\n"
     ]
    },
    {
     "name": "stdout",
     "output_type": "stream",
     "text": [
      "Epoch 1/25\n",
      "215/215 [==============================] - 122s 518ms/step - loss: 1.0718 - accuracy: 0.6633 - val_loss: 2.0005 - val_accuracy: 0.6733\n",
      "Epoch 2/25\n",
      "215/215 [==============================] - 100s 463ms/step - loss: 0.8025 - accuracy: 0.7144 - val_loss: 1.9004 - val_accuracy: 0.6733\n",
      "Epoch 3/25\n",
      "215/215 [==============================] - 99s 458ms/step - loss: 0.7087 - accuracy: 0.7438 - val_loss: 1.2849 - val_accuracy: 0.6733\n",
      "Epoch 4/25\n",
      "215/215 [==============================] - 99s 457ms/step - loss: 0.6472 - accuracy: 0.7674 - val_loss: 1.2555 - val_accuracy: 0.6740\n",
      "Epoch 5/25\n",
      "215/215 [==============================] - 99s 459ms/step - loss: 0.5864 - accuracy: 0.7900 - val_loss: 1.2551 - val_accuracy: 0.6648\n",
      "Epoch 6/25\n",
      "215/215 [==============================] - 98s 457ms/step - loss: 0.5345 - accuracy: 0.8038 - val_loss: 1.0639 - val_accuracy: 0.6747\n",
      "Epoch 7/25\n",
      "215/215 [==============================] - 99s 457ms/step - loss: 0.4879 - accuracy: 0.8257 - val_loss: 1.1205 - val_accuracy: 0.6477\n",
      "Epoch 8/25\n",
      "215/215 [==============================] - 98s 455ms/step - loss: 0.4535 - accuracy: 0.8389 - val_loss: 1.4899 - val_accuracy: 0.4908\n",
      "Epoch 9/25\n",
      "215/215 [==============================] - 98s 455ms/step - loss: 0.4075 - accuracy: 0.8530 - val_loss: 1.5138 - val_accuracy: 0.5987\n",
      "\n",
      "Epoch 00009: ReduceLROnPlateau reducing learning rate to 0.004999999888241291.\n",
      "Epoch 10/25\n",
      "215/215 [==============================] - 98s 455ms/step - loss: 0.3109 - accuracy: 0.8860 - val_loss: 1.7413 - val_accuracy: 0.4993\n",
      "Epoch 11/25\n",
      "215/215 [==============================] - 98s 456ms/step - loss: 0.2948 - accuracy: 0.8980 - val_loss: 2.3012 - val_accuracy: 0.4055\n",
      "Epoch 12/25\n",
      "215/215 [==============================] - 98s 456ms/step - loss: 0.2445 - accuracy: 0.9123 - val_loss: 1.5368 - val_accuracy: 0.5639\n",
      "\n",
      "Epoch 00012: ReduceLROnPlateau reducing learning rate to 0.0024999999441206455.\n",
      "Epoch 13/25\n",
      "215/215 [==============================] - 98s 455ms/step - loss: 0.2104 - accuracy: 0.9260 - val_loss: 0.8744 - val_accuracy: 0.7408\n",
      "Epoch 14/25\n",
      "215/215 [==============================] - 98s 455ms/step - loss: 0.1933 - accuracy: 0.9345 - val_loss: 0.9405 - val_accuracy: 0.7216\n",
      "Epoch 15/25\n",
      "215/215 [==============================] - 98s 456ms/step - loss: 0.1734 - accuracy: 0.9390 - val_loss: 0.8329 - val_accuracy: 0.7500\n",
      "Epoch 16/25\n",
      "215/215 [==============================] - 98s 455ms/step - loss: 0.1584 - accuracy: 0.9439 - val_loss: 0.7989 - val_accuracy: 0.7706\n",
      "Epoch 17/25\n",
      "215/215 [==============================] - 98s 457ms/step - loss: 0.1533 - accuracy: 0.9470 - val_loss: 0.6373 - val_accuracy: 0.8118\n",
      "Epoch 18/25\n",
      "215/215 [==============================] - 98s 455ms/step - loss: 0.1436 - accuracy: 0.9490 - val_loss: 0.7129 - val_accuracy: 0.8345\n",
      "Epoch 19/25\n",
      "215/215 [==============================] - 98s 455ms/step - loss: 0.1381 - accuracy: 0.9534 - val_loss: 0.6531 - val_accuracy: 0.8381\n",
      "Epoch 20/25\n",
      "215/215 [==============================] - 98s 456ms/step - loss: 0.1136 - accuracy: 0.9620 - val_loss: 0.6732 - val_accuracy: 0.8253\n",
      "Epoch 21/25\n",
      "215/215 [==============================] - 98s 456ms/step - loss: 0.1149 - accuracy: 0.9615 - val_loss: 0.5842 - val_accuracy: 0.8366\n",
      "Epoch 22/25\n",
      "215/215 [==============================] - 99s 458ms/step - loss: 0.1016 - accuracy: 0.9666 - val_loss: 0.6433 - val_accuracy: 0.8423\n",
      "Epoch 23/25\n",
      "215/215 [==============================] - 98s 457ms/step - loss: 0.0937 - accuracy: 0.9684 - val_loss: 0.7167 - val_accuracy: 0.8267\n",
      "Epoch 24/25\n",
      "215/215 [==============================] - 98s 456ms/step - loss: 0.0935 - accuracy: 0.9674 - val_loss: 0.6549 - val_accuracy: 0.8473\n",
      "Epoch 25/25\n",
      "215/215 [==============================] - 99s 457ms/step - loss: 0.0835 - accuracy: 0.9722 - val_loss: 0.6780 - val_accuracy: 0.8466\n"
     ]
    }
   ],
   "source": [
    "history = model.fit_generator(generator=train_data,\n",
    "                            steps_per_epoch=train_data.samples//train_data.batch_size,\n",
    "                            validation_data=val_data,\n",
    "                            verbose=1,\n",
    "                            validation_steps=val_data.samples//val_data.batch_size,\n",
    "                            epochs=25,callbacks=[learning_control])"
   ]
  },
  {
   "cell_type": "code",
   "execution_count": 19,
   "metadata": {},
   "outputs": [
    {
     "data": {
      "image/png": "[encoded data removed]",
      "text/plain": [
       "<Figure size 432x288 with 1 Axes>"
      ]
     },
     "metadata": {
      "needs_background": "light"
     },
     "output_type": "display_data"
    }
   ],
   "source": [
    "import matplotlib.pyplot as plt\n",
    "plt.plot(history.history['accuracy'])\n",
    "plt.plot(history.history['val_accuracy'])\n",
    "plt.title('model accuracy')\n",
    "plt.ylabel('accuracy')\n",
    "plt.xlabel('epoch')\n",
    "plt.legend(['train', 'val'], loc='upper left')\n",
    "plt.show()"
   ]
  },
  {
   "cell_type": "code",
   "execution_count": 20,
   "metadata": {},
   "outputs": [
    {
     "data": {
      "image/png": "[encoded data removed]",
      "text/plain": [
       "<Figure size 432x288 with 1 Axes>"
      ]
     },
     "metadata": {
      "needs_background": "light"
     },
     "output_type": "display_data"
    }
   ],
   "source": [
    "plt.plot(history.history['loss'])\n",
    "plt.plot(history.history['val_loss'])\n",
    "plt.title('model loss')\n",
    "plt.ylabel('loss')\n",
    "plt.xlabel('epoch')\n",
    "plt.legend(['train', 'val'], loc='upper left')\n",
    "plt.show()"
   ]
  },
  {
   "cell_type": "code",
   "execution_count": 21,
   "metadata": {},
   "outputs": [
    {
     "data": {
      "image/png": "[encoded data removed]",
      "text/plain": [
       "<Figure size 432x288 with 1 Axes>"
      ]
     },
     "metadata": {},
     "output_type": "display_data"
    }
   ],
   "source": [
    "N = 25\n",
    "plt.style.use(\"ggplot\")\n",
    "plt.figure()\n",
    "plt.plot(np.arange(0, N), history.history[\"loss\"], label=\"train_loss\")\n",
    "plt.plot(np.arange(0, N), history.history[\"val_loss\"], label=\"val_loss\")\n",
    "plt.plot(np.arange(0, N), history.history[\"accuracy\"], label=\"train_acc\")\n",
    "plt.plot(np.arange(0, N), history.history[\"val_accuracy\"], label=\"val_acc\")\n",
    "plt.title(\"Training Loss and Accuracy\")\n",
    "plt.xlabel(\"Epoch #\")\n",
    "plt.ylabel(\"Loss/Accuracy\")\n",
    "plt.legend(loc=\"lower left\")\n",
    "plt.show()"
   ]
  },
  {
   "cell_type": "code",
   "execution_count": 22,
   "metadata": {},
   "outputs": [
    {
     "name": "stderr",
     "output_type": "stream",
     "text": [
      "C:\\Users\\karan\\.conda\\envs\\TF\\lib\\site-packages\\keras\\engine\\training.py:2035: UserWarning: `Model.predict_generator` is deprecated and will be removed in a future version. Please use `Model.predict`, which supports generators.\n",
      "  warnings.warn('`Model.predict_generator` is deprecated and '\n"
     ]
    },
    {
     "name": "stdout",
     "output_type": "stream",
     "text": [
      "26/26 [==============================] - 23s 861ms/step\n"
     ]
    }
   ],
   "source": [
    "test_data.reset()\n",
    "predictions = model.predict_generator(test_data, steps=test_data.samples/test_data.batch_size,verbose=1)\n",
    "y_pred= np.argmax(predictions, axis=1)"
   ]
  },
  {
   "cell_type": "code",
   "execution_count": 23,
   "metadata": {},
   "outputs": [
    {
     "name": "stdout",
     "output_type": "stream",
     "text": [
      "Test Accuracy : 80.91603053435115\n"
     ]
    }
   ],
   "source": [
    "c=np.where(y_pred == name_as_indexes_test)\n",
    "np.count_nonzero(c)\n",
    "print(\"Test Accuracy :\",(np.count_nonzero(c)/len(name_as_indexes_test))*100)"
   ]
  },
  {
   "cell_type": "code",
   "execution_count": 24,
   "metadata": {},
   "outputs": [
    {
     "name": "stdout",
     "output_type": "stream",
     "text": [
      "              precision    recall  f1-score   support\n",
      "\n",
      "           0       0.59      0.65      0.62        62\n",
      "           1       0.70      0.74      0.72        77\n",
      "           2       0.69      0.70      0.70       201\n",
      "           3       0.57      0.33      0.42        24\n",
      "           4       0.52      0.58      0.54       191\n",
      "           5       0.91      0.89      0.90      1128\n",
      "           6       0.85      0.85      0.85        20\n",
      "\n",
      "    accuracy                           0.81      1703\n",
      "   macro avg       0.69      0.68      0.68      1703\n",
      "weighted avg       0.81      0.81      0.81      1703\n",
      "\n"
     ]
    }
   ],
   "source": [
    "from sklearn.metrics import classification_report\n",
    "\n",
    "report = classification_report(name_as_indexes_test, y_pred)\n",
    "\n",
    "print(report)"
   ]
  },
  {
   "cell_type": "code",
   "execution_count": 25,
   "metadata": {},
   "outputs": [
    {
     "name": "stderr",
     "output_type": "stream",
     "text": [
      "C:\\Users\\karan\\.conda\\envs\\TF\\lib\\site-packages\\keras\\utils\\generic_utils.py:494: CustomMaskWarning: Custom mask layers require a config and must override get_config. When loading, the custom mask layer must be passed to the custom_objects argument.\n",
      "  warnings.warn('Custom mask layers require a config and must override '\n"
     ]
    }
   ],
   "source": [
    "model.save(\"HDF.h5\")"
   ]
  },
  {
   "cell_type": "code",
   "execution_count": null,
   "metadata": {
    "scrolled": false
   },
   "outputs": [],
   "source": []
  },
  {
   "cell_type": "code",
   "execution_count": null,
   "metadata": {},
   "outputs": [],
   "source": []
  },
  {
   "cell_type": "code",
   "execution_count": null,
   "metadata": {},
   "outputs": [],
   "source": []
  }
 ],
 "metadata": {
  "kernelspec": {
   "display_name": "Python 3 (ipykernel)",
   "language": "python",
   "name": "python3"
  },
  "language_info": {
   "codemirror_mode": {
    "name": "ipython",
    "version": 3
   },
   "file_extension": ".py",
   "mimetype": "text/x-python",
   "name": "python",
   "nbconvert_exporter": "python",
   "pygments_lexer": "ipython3",
   "version": "3.9.12"
  }
 },
 "nbformat": 4,
 "nbformat_minor": 1
}
